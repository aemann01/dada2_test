{
 "cells": [
  {
   "cell_type": "markdown",
   "id": "23d363eb",
   "metadata": {},
   "source": [
    "### Install packages"
   ]
  },
  {
   "cell_type": "code",
   "execution_count": null,
   "id": "30801904",
   "metadata": {},
   "outputs": [],
   "source": [
    "if (!requireNamespace(\"BiocManager\", quietly = TRUE))\n",
    "    install.packages(\"BiocManager\")\n",
    "BiocManager::install(\"dada2\")\n",
    "BiocManager::install(\"ShortRead\")\n",
    "install.packages(\"magrittr\")\n",
    "install.packages(\"stringr\")\n",
    "install.packages(\"data.table\")\n",
    "install.packages(\"qualpalr\")\n",
    "install.packages(\"seqinr\")"
   ]
  },
  {
   "cell_type": "markdown",
   "id": "c2554286",
   "metadata": {},
   "source": [
    "### Load libraries"
   ]
  },
  {
   "cell_type": "code",
   "execution_count": null,
   "id": "02afa091",
   "metadata": {},
   "outputs": [],
   "source": [
    "library(dada2)\n",
    "library(stringr)\n",
    "library(data.table)\n",
    "library(qualpalr)\n",
    "library(ShortRead)\n",
    "library(Biostrings)\n",
    "library(seqinr)"
   ]
  },
  {
   "cell_type": "markdown",
   "id": "dda4287b",
   "metadata": {},
   "source": [
    "### File path setup"
   ]
  },
  {
   "cell_type": "code",
   "execution_count": null,
   "id": "30992b3f",
   "metadata": {},
   "outputs": [],
   "source": [
    "rawpath <- \"raw\"\n",
    "wdpath <- \"/home/allie/domhain/2023-Longitudinal_oral_microbiome/01-read_processing\" # change to where git repository was cloned\n",
    "fnFs <- sort(list.files(rawpath, pattern=\"_R1_001.fastq.gz\", full.names=T))\n",
    "fnRs <- sort(list.files(rawpath, pattern=\"_R2_001.fastq.gz\", full.names=T))\n",
    "sample.names <- sapply(strsplit(basename(fnFs), \"_\"), `[`, 1)\n",
    "head(sample.names, 10)\n",
    "paste(\"Number of input samples: \", length(sample.names))"
   ]
  },
  {
   "cell_type": "markdown",
   "id": "ba6b4c89",
   "metadata": {},
   "source": [
    "### Plot quality scores"
   ]
  },
  {
   "cell_type": "code",
   "execution_count": null,
   "id": "8afad695",
   "metadata": {},
   "outputs": [],
   "source": [
    "system(\"mkdir img\") # ignore warning\n",
    "fwdqual <- plotQualityProfile(fnFs[100:115])\n",
    "revqual <- plotQualityProfile(fnRs[100:115])\n",
    "fwdqual\n",
    "revqual\n",
    "\n",
    "pdf(paste(wdpath, \"/img/\", \"forward_quality_plot.pdf\", sep=\"\"))\n",
    "fwdqual\n",
    "dev.off()\n",
    "pdf(paste(wdpath, \"/img/\", \"reverse_quality_plot.pdf\", sep=\"\"))\n",
    "revqual\n",
    "dev.off()"
   ]
  },
  {
   "cell_type": "markdown",
   "id": "be4a6121",
   "metadata": {},
   "source": [
    "### Preliminary filter (remove sequences with uncalled bases)"
   ]
  },
  {
   "cell_type": "code",
   "execution_count": null,
   "id": "198536bf",
   "metadata": {},
   "outputs": [],
   "source": [
    "fnFs.filtN <- file.path(rawpath, \"filtN\", basename(fnFs)) # Put N-filtered files in filtN/ subdirectory\n",
    "fnRs.filtN <- file.path(rawpath, \"filtN\", basename(fnRs))\n",
    "filterAndTrim(fnFs, fnFs.filtN, fnRs, fnRs.filtN, maxN = 0, multithread = TRUE, compress = TRUE, matchIDs=TRUE)"
   ]
  },
  {
   "cell_type": "markdown",
   "id": "3e8ce4fd",
   "metadata": {},
   "source": [
    "### Primer trimming"
   ]
  },
  {
   "cell_type": "code",
   "execution_count": null,
   "id": "be2c7803",
   "metadata": {},
   "outputs": [],
   "source": [
    "cutadapt <- as.character(system(\"which cutadapt\", intern=T))\n",
    "system(\"cutadapt --version\")\n",
    "path.cut <- file.path(rawpath, \"cutadapt\")\n",
    "if(!dir.exists(path.cut)) dir.create(path.cut)\n",
    "fnFs.cut <- file.path(path.cut, basename(fnFs))\n",
    "fnRs.cut <- file.path(path.cut, basename(fnRs))\n",
    "FWD.RC <- dada2:::rc(\"MAYGARAARMGNATGYTNCARGA\")\n",
    "REV.RC <- dada2:::rc(\"GMCATYTGRTCNCCRTCRAA\")\n",
    "# Trim FWD and the reverse-complement of REV off of R1 (forward reads)\n",
    "R1.flags <- paste(\"-g\", \"MAYGARAARMGNATGYTNCARGA\", \"-a\", REV.RC) \n",
    "# Trim REV and the reverse-complement of FWD off of R2 (reverse reads)\n",
    "R2.flags <- paste(\"-G\", \"GMCATYTGRTCNCCRTCRAA\", \"-A\", FWD.RC) \n",
    "for(i in seq_along(fnFs)) {\n",
    "  system2(cutadapt, args = c(\"--cores=0\", R1.flags, R2.flags, \"-n\", 2,\"-o\", fnFs.cut[i], \"-p\", fnRs.cut[i], fnFs.filtN[i], fnRs.filtN[i]))\n",
    "}\n",
    "cutFs <- sort(list.files(path.cut, pattern = \"R1\", full.names = TRUE))\n",
    "cutRs <- sort(list.files(path.cut, pattern = \"R2\", full.names = TRUE))"
   ]
  },
  {
   "cell_type": "markdown",
   "id": "c1cebeae",
   "metadata": {},
   "source": [
    "### Quality filter and trim reads"
   ]
  },
  {
   "cell_type": "code",
   "execution_count": null,
   "id": "8c2c8ce6",
   "metadata": {},
   "outputs": [],
   "source": [
    "filtFs <- file.path(path.cut, \"filtered\", basename(cutFs))\n",
    "filtRs <- file.path(path.cut, \"filtered\", basename(cutRs))\n",
    "out <- filterAndTrim(cutFs, filtFs, cutRs, filtRs, trimRight=25, maxN=c(0,0), maxEE=c(4,6), rm.phix=TRUE, matchIDs=TRUE, compress=TRUE, multithread=TRUE)\n",
    "retained <- as.data.frame(out)\n",
    "# aiming for around 80% or more retention\n",
    "retained$prop.postqual <- retained$reads.out/retained$reads.in*100\n",
    "head(retained)\n",
    "mean(retained$prop.postqual)\n",
    "median(retained$prop.postqual)"
   ]
  },
  {
   "cell_type": "markdown",
   "id": "610cf86c",
   "metadata": {},
   "source": [
    "### Learn and plot error rates"
   ]
  },
  {
   "cell_type": "code",
   "execution_count": null,
   "id": "cc3323e9",
   "metadata": {},
   "outputs": [],
   "source": [
    "set.seed(12349)\n",
    "errF <- learnErrors(filtFs, multithread=T, random=T)\n",
    "errR <- learnErrors(filtRs, multithread=T, random=T)\n",
    "err.f.plt <- plotErrors(errF, nominalQ=TRUE) \n",
    "err.f.plt\n",
    "pdf(paste(wdpath, \"/img/\", \"error_plot.pdf\", sep=\"\"))\n",
    "err.f.plt\n",
    "dev.off()"
   ]
  },
  {
   "cell_type": "markdown",
   "id": "e66be29b",
   "metadata": {},
   "source": [
    "### Dereplication"
   ]
  },
  {
   "cell_type": "code",
   "execution_count": null,
   "id": "e4a7f5cd",
   "metadata": {},
   "outputs": [],
   "source": [
    "derepFs <- derepFastq(filtFs, verbose=FALSE)\n",
    "derepRs <- derepFastq(filtRs, verbose=FALSE)\n",
    "# reassign sample names\n",
    "sample.names <- sapply(strsplit(basename(filtFs), \"_\"), `[`, 1)\n",
    "names(derepFs) <- sample.names\n",
    "names(derepRs) <- sample.names"
   ]
  },
  {
   "cell_type": "markdown",
   "id": "73f76ebe",
   "metadata": {},
   "source": [
    "### Sample inference"
   ]
  },
  {
   "cell_type": "code",
   "execution_count": null,
   "id": "b32ab427",
   "metadata": {},
   "outputs": [],
   "source": [
    "dadaFs <- dada(derepFs, err=errF, multithread=TRUE, verbose=FALSE)\n",
    "dadaRs <- dada(derepRs, err=errR, multithread=TRUE, verbose=FALSE)"
   ]
  },
  {
   "cell_type": "markdown",
   "id": "4bbdbb73",
   "metadata": {},
   "source": [
    "### Merge paired-end reads"
   ]
  },
  {
   "cell_type": "code",
   "execution_count": null,
   "id": "444e2b70",
   "metadata": {},
   "outputs": [],
   "source": [
    "mergers <- mergePairs(dadaFs, derepFs, dadaRs, derepRs, verbose=FALSE)"
   ]
  },
  {
   "cell_type": "markdown",
   "id": "e3f25a1c",
   "metadata": {},
   "source": [
    "### Construct sequence table"
   ]
  },
  {
   "cell_type": "code",
   "execution_count": null,
   "id": "51336f91",
   "metadata": {},
   "outputs": [],
   "source": [
    "seqtab <- makeSequenceTable(mergers)\n",
    "dim(seqtab)"
   ]
  },
  {
   "cell_type": "markdown",
   "id": "cd76f5b1",
   "metadata": {},
   "source": [
    "### Length filter"
   ]
  },
  {
   "cell_type": "code",
   "execution_count": null,
   "id": "b8ccb8fb",
   "metadata": {},
   "outputs": [],
   "source": [
    "# sequence length table\n",
    "table(nchar(colnames(seqtab)))"
   ]
  },
  {
   "cell_type": "markdown",
   "id": "05f8302d",
   "metadata": {},
   "source": [
    "Filter out any ASVs shorter than 450 bp in length"
   ]
  },
  {
   "cell_type": "code",
   "execution_count": null,
   "id": "7b3b6d96",
   "metadata": {},
   "outputs": [],
   "source": [
    "seqlens <- nchar(getSequences(seqtab))\n",
    "seqtab.filt <- seqtab[,seqlens > 450]\n",
    "dim(seqtab.filt)"
   ]
  },
  {
   "cell_type": "markdown",
   "id": "565ab995",
   "metadata": {},
   "source": [
    "Sequence length distribution after filter"
   ]
  },
  {
   "cell_type": "code",
   "execution_count": null,
   "id": "f612cdc7",
   "metadata": {},
   "outputs": [],
   "source": [
    "length.histogram <- as.data.frame(table(nchar(getSequences(seqtab.filt))))\n",
    "plot(x=length.histogram[,1], y=length.histogram[,2])\n",
    "pdf(paste(wdpath, \"/img/\", \"length_hist.pdf\", sep=\"\"))\n",
    "plot(x=length.histogram[,1], y=length.histogram[,2])\n",
    "dev.off()"
   ]
  },
  {
   "cell_type": "markdown",
   "id": "282a208e",
   "metadata": {},
   "source": [
    "### Chimera detection and removal"
   ]
  },
  {
   "cell_type": "code",
   "execution_count": null,
   "id": "d6523f77",
   "metadata": {},
   "outputs": [],
   "source": [
    "seqtab.nochim <- removeBimeraDenovo(seqtab.filt, method=\"pooled\", multithread=T, verbose=T)\n",
    "dim(seqtab.nochim)\n",
    "sum(seqtab.nochim)/sum(seqtab.filt)"
   ]
  },
  {
   "cell_type": "markdown",
   "id": "49a9e913",
   "metadata": {},
   "source": [
    "### Processing summary"
   ]
  },
  {
   "cell_type": "code",
   "execution_count": null,
   "id": "15fa6c64",
   "metadata": {},
   "outputs": [],
   "source": [
    "getN <- function(x) sum(getUniques(x))\n",
    "track <- cbind(out, sapply(dadaFs, getN), sapply(dadaRs, getN), sapply(mergers, getN), rowSums(seqtab.nochim))\n",
    "colnames(track) <- c(\"input\", \"filtered\", \"denoisedF\", \"denoisedR\", \"merged\", \"nochimeras\")\n",
    "rownames(track) <- sample.names\n",
    "track"
   ]
  },
  {
   "cell_type": "markdown",
   "id": "f093e2a2",
   "metadata": {},
   "source": [
    "### Save output"
   ]
  },
  {
   "cell_type": "code",
   "execution_count": null,
   "id": "8f1f898b",
   "metadata": {},
   "outputs": [],
   "source": [
    "write.table(data.frame(\"row_names\"=rownames(track),track),\"read_retention.txt\", row.names=FALSE, quote=F, sep=\"\\t\")\n",
    "uniquesToFasta(seqtab.nochim, \"rep_set.fa\")\n",
    "system(\"awk '/^>/{print \\\">ASV\\\" ++i; next}{print}' < rep_set.fa > rep_set_fix.fa\")\n",
    "system(\"mv rep_set_fix.fa rep_set.fa\")"
   ]
  },
  {
   "cell_type": "markdown",
   "id": "ee92d999",
   "metadata": {},
   "source": [
    "### Clean up ASV names"
   ]
  },
  {
   "cell_type": "code",
   "execution_count": null,
   "id": "7fea4c59",
   "metadata": {},
   "outputs": [],
   "source": [
    "my_otu_table <- t(as.data.frame(seqtab.nochim)) \n",
    "ASV.seq <- as.character(unclass(row.names(my_otu_table))) \n",
    "ASV.num <- paste0(\"ASV\", seq(ASV.seq), sep='') \n",
    "colnames(seqtab.nochim) <- ASV.num \n",
    "write.table(data.frame(\"row_names\"=rownames(seqtab.nochim),seqtab.nochim),\"sequence_table.merged.txt\", row.names=FALSE, quote=F, sep=\"\\t\")"
   ]
  }
 ],
 "metadata": {
  "kernelspec": {
   "display_name": "R",
   "language": "R",
   "name": "ir"
  },
  "language_info": {
   "codemirror_mode": "r",
   "file_extension": ".r",
   "mimetype": "text/x-r-source",
   "name": "R",
   "pygments_lexer": "r",
   "version": "4.1.2"
  }
 },
 "nbformat": 4,
 "nbformat_minor": 5
}
